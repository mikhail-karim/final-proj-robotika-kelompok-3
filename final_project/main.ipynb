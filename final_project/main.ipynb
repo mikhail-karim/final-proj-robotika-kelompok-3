{
 "cells": [
  {
   "cell_type": "code",
   "execution_count": null,
   "id": "3475b27e",
   "metadata": {},
   "outputs": [],
   "source": [
    "# NB : JALANKAN INI DULU\n",
    "# pip install opencv-python ultralytics pyserial "
   ]
  },
  {
   "cell_type": "code",
   "execution_count": 1,
   "id": "bc47e4ad",
   "metadata": {},
   "outputs": [],
   "source": [
    "from ultralytics import YOLO\n",
    "import cv2 \n",
    "import time\n",
    "import serial"
   ]
  },
  {
   "cell_type": "code",
   "execution_count": 2,
   "id": "8d105a1f",
   "metadata": {},
   "outputs": [],
   "source": [
    "# load arduino\n",
    "arduino = serial.Serial(\"COM7\", 115200, timeout=1) \n",
    "time.sleep(3)"
   ]
  },
  {
   "cell_type": "code",
   "execution_count": 3,
   "id": "b4c04274",
   "metadata": {},
   "outputs": [],
   "source": [
    "# load yolo model\n",
    "model = YOLO(\"yolov8n.pt\") "
   ]
  },
  {
   "cell_type": "code",
   "execution_count": null,
   "id": "98211b34",
   "metadata": {},
   "outputs": [],
   "source": [
    "cap = cv2.VideoCapture(0)\n",
    "\n",
    "# atur window agar bisa resize\n",
    "cv2.namedWindow(\"camera\", cv2.WINDOW_NORMAL)\n",
    "\n",
    "while True:\n",
    "    ret, frame = cap.read()\n",
    "    if not ret:\n",
    "        break\n",
    "\n",
    "    # prediksi\n",
    "    results = model.predict(frame, imgsz=640, conf=0.5, verbose=False)\n",
    "\n",
    "    # jika ada object yang terdeteksi maka kendalikan robotnya\n",
    "    if results[0].boxes is not None and len(results[0].boxes) > 0:\n",
    "        # get id dari obejct\n",
    "        class_id = int(results[0].boxes.cls[0])\n",
    "\n",
    "        # get name dari object\n",
    "        class_name = model.names[class_id]\n",
    "\n",
    "        # jika person/orang yang terdeteksi maka belok kanan\n",
    "        if class_name == 'person':\n",
    "            # kotak-in yang terdeteksi sebagai person\n",
    "            x1, y1, x2, y2 = map(int, results[0].boxes[0].xyxy[0])\n",
    "            cv2.rectangle(frame, (x1, y1), (x2, y2), (0, 255, 0), 1)\n",
    "\n",
    "            # kasih label di atas kotaknya\n",
    "            label = f'{class_name} {float(results[0].boxes[0].conf[0]):.2f}'\n",
    "            cv2.putText(frame, label, (x1, y1 - 10),\n",
    "                        cv2.FONT_HERSHEY_SIMPLEX, 0.6, (0, 255, 0), 1)\n",
    "\n",
    "\n",
    "            arduino.write(b\"2\")\n",
    "            time.sleep(1)  # belok kanan\n",
    "            arduino.write(b\"1\")\n",
    "            time.sleep(2)  # maju beberapa detik\n",
    "            arduino.write(b\"0\")\n",
    "            time.sleep(3)\n",
    "    else:\n",
    "        # menampilkan text 'tidak ada object yang terdeteksi' di window\n",
    "        text = 'tidak ada object yang terdeteksi'\n",
    "        font = cv2.FONT_HERSHEY_SIMPLEX\n",
    "        font_scale = 0.6\n",
    "        thickness = 1\n",
    "        color = (0, 0, 255)\n",
    "        (text_width, text_height), _ = cv2.getTextSize(text, font, font_scale, thickness)\n",
    "        frame_height, frame_width = frame.shape[:2]\n",
    "        x = (frame_width - text_width) // 2\n",
    "        y = (frame_height + text_height) // 2\n",
    "        cv2.putText(frame, text, (x, y), font, font_scale, color, thickness)\n",
    "\n",
    "\n",
    "    # menampilkan text 'tekan q untuk keluar' di window \n",
    "    exit_text = \"tekan 'q' untuk keluar\"\n",
    "    font = cv2.FONT_HERSHEY_SIMPLEX\n",
    "    font_scale = 0.6\n",
    "    thickness = 1\n",
    "    color = (255, 255, 255)\n",
    "    (text_width, text_height), _ = cv2.getTextSize(exit_text, font, font_scale, thickness)\n",
    "    x = (frame.shape[1] - text_width) // 2\n",
    "    y = frame.shape[0] - 20\n",
    "    cv2.putText(frame, exit_text, (x, y), font, font_scale, color, thickness)\n",
    "\n",
    "    # tampilkan window-nya\n",
    "    cv2.imshow('camera', frame)\n",
    "\n",
    "    # exit pencet q\n",
    "    if cv2.waitKey(1) & 0xFF == ord('q'):\n",
    "        break\n",
    "\n",
    "cap.release()\n",
    "cv2.destroyAllWindows()"
   ]
  }
 ],
 "metadata": {
  "kernelspec": {
   "display_name": ".venv",
   "language": "python",
   "name": "python3"
  },
  "language_info": {
   "codemirror_mode": {
    "name": "ipython",
    "version": 3
   },
   "file_extension": ".py",
   "mimetype": "text/x-python",
   "name": "python",
   "nbconvert_exporter": "python",
   "pygments_lexer": "ipython3",
   "version": "3.13.3"
  }
 },
 "nbformat": 4,
 "nbformat_minor": 5
}
